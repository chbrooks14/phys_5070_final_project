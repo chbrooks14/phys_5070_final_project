{
 "cells": [
  {
   "cell_type": "code",
   "execution_count": 1,
   "id": "communist-nepal",
   "metadata": {},
   "outputs": [],
   "source": [
    "## Import cell\n",
    "%matplotlib inline\n",
    "\n",
    "import numpy as np\n",
    "import matplotlib.pyplot as plt\n",
    "import numpy.testing as npt\n",
    "import Omelyan_SST_Solver as SST"
   ]
  },
  {
   "cell_type": "markdown",
   "id": "adolescent-newspaper",
   "metadata": {},
   "source": [
    "The point of this notebook is to implement an efficient computational technique that allows us to take a trajectory of a particle for a given set of initial conditions and determine if the orbit is ordered or chaotic (whether or not a small perturbation in the initial conditions will give a significantly different trajectory).\n",
    "\n",
    "One of the most common ways to determine and classify an trajectory as ordered or chaotic is by evaluating the Lyapunov exponent (see Skokos and Manos 2016 or https://en.wikipedia.org/wiki/Lyapunov_exponent).\n",
    "\n",
    "However, for this project, I chose to implement an alternative to the Lyapunov coefficient as an indicator of chaos that is often considered more efficient: the Smaller Alignment Index (or SALI), introduced by Skokos in 2001.\n",
    "\n",
    "The procedure developed by Skokos is as follows:\n",
    "\n",
    "Given an initial condition for the system, an associated point in phase space that has a slightly different set of initial conditions can be described by a deviation vector, defined as:\n",
    "\n",
    "$\\mathbf{w} \\equiv (\\delta x, \\delta y, \\delta p_x, \\delta p_y)$\n",
    "\n",
    "This deviation vector evolves in time according to the variational equations\n",
    "\n",
    "$\\dot{(\\delta x)} = \\delta \\dot{x}$\n",
    "\n",
    "$\\dot{(\\delta y)} = \\delta \\dot{y}$\n",
    "\n",
    "$\\dot{(\\delta p_x)} = - \\frac{\\partial^2 V}{\\partial x^2} \\delta x - \\frac{\\partial^2 V}{\\partial x \\partial y} \\delta y = - (1 + 2y) \\delta x - 2x \\delta y$\n",
    "\n",
    "$\\dot{(\\delta p_y)} = - \\frac{\\partial^2 V}{\\partial y \\partial x} \\delta x - \\frac{\\partial^2 V}{\\partial y^2} \\delta y = - 2x \\delta x - (1 - 2y) \\delta y$\n",
    "\n",
    "(see Zotos 2015). Now, given two distinct deviation vectors $\\mathbf{w}_1$ and $\\mathbf{w}_2$ that initially point in two random directions in phase space and evolve in time by the equations above, the Smaller Alignment Index as a function of time is given by\n",
    "\n",
    "$SALI(t) = min\\{d_{+}, d_{-}\\}$\n",
    "\n",
    "with the alignment indices $d_+$ and $d_-$ defined as the sum and difference of the _normalized_ deviation vectors:\n",
    "\n",
    "$d_{\\pm} \\equiv |\\hat{\\mathbf{w}}_1(t) \\pm \\hat{\\mathbf{w}}_2(t)|$\n",
    "\n",
    "In his 2001 paper, Skokos explains that if an orbit is ordered, the two deviation vectors should become tangent to the torus in phase space on which the orbit is confined to. In this ordered case $d_+$ and $d_-$ will tend to positive values between 0 and 2. Conversely, a chaotic orbit would have SALI(t) tend to 0 over time.\n",
    "\n",
    "So ulitimately, a given orbit can be classified as either ordered or chaotic simply by calculating SALI(t) and seeing if it tends to zero or not. If SALI(t) for an orbit appears to clearly be going toward zero, then an orbit is chaotic.\n",
    "\n",
    "To implement this technique, I wrote a function below that utilizes QPQ leapfrog symplectic integration to calculate the time evolution of two initial deviation vectors for a given Henon-Heiles orbit."
   ]
  },
  {
   "cell_type": "code",
   "execution_count": 2,
   "id": "bottom-nicholas",
   "metadata": {},
   "outputs": [],
   "source": [
    "def calc_SALI(t, x, y, w1_0=[-.001, 0, 0, 0], w2_0=[0, 0, 0, -.001]):\n",
    "    \"\"\"\n",
    "    Given a numerical solution for the trajectory of an orbit and two initial deviation vectors,\n",
    "    find the Smaller Alignment Index (SALI) for that orbit as a function of time.\n",
    "    \n",
    "    Inputs:\n",
    "        - t, x, y: the numerical solution for the trajectory (and associated time) for a\n",
    "          Henon-Heiles orbit (numpy arrays, all the same length)\n",
    "        - w1_0, w2_0: the initial deviation vectors from the initial conditions in phase space.\n",
    "          They can point in any arbitrary direction in phase space (but for an actual calculation\n",
    "          they should be orthonormal to one another so that SALI(t=0) is nonzero.)\n",
    "          wi = [dx, dy, dpx, dpy] (numpy arrays of length 4)\n",
    "\n",
    "    Returns:\n",
    "        - SALI: Smaller Alignment Index over the course of the calculated orbit for the two deviation vectors\n",
    "          (numpy array, same length as t, x, and y)\n",
    "    \n",
    "    \"\"\"\n",
    "    w1 = np.zeros((len(t), 4), dtype=float)\n",
    "    w2 = np.zeros((len(t), 4), dtype=float)\n",
    "    w1[0] = w1_0\n",
    "    w2[0] = w2_0\n",
    "    \n",
    "    dt = t[1] - t[0]\n",
    "    for i in range(len(t)-1):\n",
    "        # QPQ leapfrog symplectic integrator to update w1 and w2\n",
    "        # update \"positions\" by dt/2\n",
    "        dx1_half = w1[i, 0] + dt/2 * w1[i, 2]\n",
    "        dy1_half = w1[i, 1] + dt/2 * w1[i, 3]\n",
    "        dx2_half = w2[i, 0] + dt/2 * w2[i, 2]\n",
    "        dy2_half = w2[i, 1] + dt/2 * w2[i, 3]\n",
    "        # update \"momenta\" with half-updated positions\n",
    "        w1[i+1, 2] = w1[i, 2] + dt * (-(1 + 2*y[i])*dx1_half - 2*x[i]*dy1_half)\n",
    "        w1[i+1, 3] = w1[i, 3] + dt * (-2*x[i]*dx1_half - (1-2*y[i])*dy1_half)\n",
    "        w2[i+1, 2] = w2[i, 2] + dt * (-(1 + 2*y[i])*dx2_half - 2*x[i]*dy2_half)\n",
    "        w2[i+1, 3] = w2[i, 3] + dt * (-2*x[i]*dx2_half - (1-2*y[i])*dy2_half)\n",
    "        # update \"positions\" by dt/2 with updated \"momenta\"\n",
    "        w1[i+1, 0] = dx1_half + dt/2 * w1[i+1, 2]\n",
    "        w1[i+1, 1] = dy1_half + dt/2 * w1[i+1, 3]\n",
    "        w2[i+1, 0] = dx2_half + dt/2 * w2[i+1, 2]\n",
    "        w2[i+1, 1] = dy2_half + dt/2 * w2[i+1, 3]\n",
    "    \n",
    "    # normalize w1 and w2\n",
    "    w1_mag = np.sqrt(np.sum(w1**2, axis=1))\n",
    "    w2_mag = np.sqrt(np.sum(w2**2, axis=1))\n",
    "    # I need to repeat these arrays 4 times, so I can divide all 4 components of w's by their magnitude to normalize them\n",
    "    w1_mag = np.repeat(w1_mag[...,np.newaxis], 4, axis=1)\n",
    "    w2_mag = np.repeat(w2_mag[...,np.newaxis], 4, axis=1)\n",
    "    \n",
    "    w1_hat = w1/w1_mag\n",
    "    w2_hat = w2/w2_mag\n",
    "    \n",
    "    d_plus = w1_hat + w2_hat\n",
    "    d_minus = w1_hat - w2_hat\n",
    "    d_plus_mag = np.sqrt(np.sum(d_plus**2, axis=1))\n",
    "    d_minus_mag = np.sqrt(np.sum(d_minus**2, axis=1))\n",
    "    \n",
    "    SALI = np.minimum(d_plus_mag, d_minus_mag)\n",
    "    return SALI"
   ]
  },
  {
   "cell_type": "markdown",
   "id": "distinct-advisory",
   "metadata": {},
   "source": [
    "This is kind of a difficult function to test. I just made sure it gave what I would expect for a few fairly trivial cases where the particle stays at the origin at all times.\n",
    "\n",
    "A couple cases tested below (for all of them $x(t) = y(t) = 0$):\n",
    " - For $\\mathbf{w}_{1,0}$ and $\\mathbf{w}_{2,0}$ orthogonal to each other, SALI should be $\\sqrt{2}$ at time 0 because $d_+ = d_- = \\sqrt{2}$.\n",
    " - For $\\mathbf{w}_{2,0} = c \\ \\mathbf{w}_{1,0}$ for some constant c, either $d_{+}$ or $d_{-}$ will be zero so SALI should be zero at time 0.\n",
    " - For $\\mathbf{w}_{1,0}$ = $\\mathbf{w}_{2,0}$, SALI(t) should equal 0 at all times"
   ]
  },
  {
   "cell_type": "code",
   "execution_count": 3,
   "id": "requested-western",
   "metadata": {},
   "outputs": [
    {
     "name": "stdout",
     "output_type": "stream",
     "text": [
      "[1.41421356 1.41421356 1.41421356 1.41421356 1.41421356 1.41421356\n",
      " 1.41421356 1.41421356 1.41421356 1.41421356 1.41421356]\n",
      "[0. 0. 0. 0. 0. 0. 0. 0. 0. 0. 0.]\n",
      "[0. 0. 0. 0. 0. 0. 0. 0. 0. 0. 0.]\n"
     ]
    }
   ],
   "source": [
    "t_test = np.linspace(0, 10, 11)\n",
    "x_test = np.zeros_like(t_test)\n",
    "y_test = np.zeros_like(t_test)\n",
    "\n",
    "SALI_test_1 = calc_SALI(t_test, x_test, y_test, [1,0,0,0], [0,1,0,0]) # w1, w2 orthogonal. d+/-=[1,+/-1,0,0]; SALI = sqrt(2)\n",
    "SALI_test_2 = calc_SALI(t_test, x_test, y_test, [1,0,0,0], [-0.4,0,0,0]) # w2 = c*w1 d+ = [0,0,0,0] d- = [2,0,0,0]; SALI = 0 \n",
    "SALI_test_3 = calc_SALI(t_test, x_test, y_test, [1,0,0,0], [1,0,0,0]) # w1 = w2 d+=[2,0,0,0] d-=[0,0,0,0]; SALI = 0 at all t\n",
    "print(SALI_test_1)\n",
    "print(SALI_test_2)\n",
    "print(SALI_test_3)\n",
    "\n",
    "npt.assert_allclose(SALI_test_1[0], np.sqrt(2))\n",
    "npt.assert_allclose(SALI_test_2[0], 0)\n",
    "npt.assert_allclose(SALI_test_3, np.zeros_like(t_test))"
   ]
  },
  {
   "cell_type": "markdown",
   "id": "bizarre-miracle",
   "metadata": {},
   "source": [
    "Now, I want to implement this function and calculate SALI(t) for several Henon-Heiles orbits. The goal with this technique is to be able to classify any Henon-Heiles orbit as ordered or chaotic. The parameter space is quite complicated, so to keep things tractable I stuck to a small region in the parameter space. First, I'll look at orbits with only one nonzero initial parameter: $x_0$. Below, I calculated and plotted SALI(t) for a few different values, of $x_0$ to be able to see qualitatively how SALI(t) differs between ordered and chaotic orbits."
   ]
  },
  {
   "cell_type": "code",
   "execution_count": 5,
   "id": "outstanding-midnight",
   "metadata": {},
   "outputs": [
    {
     "name": "stdout",
     "output_type": "stream",
     "text": [
      "dt = 0.01000010000100001\n"
     ]
    },
    {
     "data": {
      "image/png": "[encoded data removed]",
      "text/plain": [
       "<Figure size 720x576 with 1 Axes>"
      ]
     },
     "metadata": {
      "needs_background": "light"
     },
     "output_type": "display_data"
    }
   ],
   "source": [
    "t = np.linspace(0, 1000, 100000)\n",
    "print('dt =', t[1]- t[0])\n",
    "\n",
    "# x0, y0, px0, py0\n",
    "initial_conditions = [[1/4, 0, 0, 0],\n",
    "                      [2/5, 0, 0, 0],\n",
    "                      [1/2, 0, 0, 0],\n",
    "                      [1/np.sqrt(3), 0, 0, 0]] # largest value of x0 allowed. Gives E=1/6\n",
    "\n",
    "plt.figure(figsize=(10,8))\n",
    "for i in initial_conditions:\n",
    "    x0, y0, px0, py0 = i[0], i[1], i[2], i[3]\n",
    "    E = SST.E_HH(x0, y0, px0, py0)\n",
    "    x, y, px, py = SST.solve(t, x0, y0, px0, py0, SST.dVHH_dx, SST.dVHH_dy)\n",
    "    # make sure step size is small enough that energy is conserved throughout orbit\n",
    "    npt.assert_allclose(0, np.max(np.abs(SST.E_HH(x, y, px, py) - E)), atol=1e-5)\n",
    "    \n",
    "    SALI = calc_SALI(t, x, y)\n",
    "    plt.loglog(t, SALI, label='x0 = %.2f; E = %.3f' % (x0, E))\n",
    "    plt.xlabel('t')\n",
    "    plt.ylabel('SALI(t)')\n",
    "    plt.title('Log-log plot of SALI(t) for Initial Condition Particle at rest on x-axis')\n",
    "    plt.legend()"
   ]
  },
  {
   "cell_type": "markdown",
   "id": "retained-cardiff",
   "metadata": {},
   "source": [
    "For the above four cases, two are ordered ($x_0 = \\frac{1}{4}$ and $x_0 = \\frac{2}{5}$) while the other two are chaotic ($x_0 = \\frac{1}{2}$ and $x_0 = \\frac{1}{\\sqrt{3}}$).\n",
    "\n",
    "It can be clearly seen from the plots that for the two chaotic orbits, SALI(t) trends significantly to zero over the course of the trajectory, falling to under $10^{-15}$ after only $10^{3}$ time units. This is easily contrasted with the ordered orbits, where SALI(t) oscillates around one. These results are consistent with the behavior of SALI(t) for chaotic and ordered orbits for Henon-Heiles orbits (see Zotos 2015).\n",
    "\n",
    "Note: orbits with higher energy are the ones that tend to more likely show chaotic behavior. \n",
    "\n",
    "Now, to actually explore the parameter space with this method and classify orbits as either ordered or chaotic. Following Zotos's paper, I will classify a given orbit as chaotic if SALI(t) drops below $10^{-8}$ over the course of the calculation.\n",
    "\n",
    "I will do two different parameter explorations to look for a transition from ordered to chaotic behavior:\n",
    "\n",
    "  1. I will have all parameters besides $x_0$ be fixed at 0, and vary $x_0$ from 0 to it's maximally energetically allowed value (for a bound orbit) of $\\frac{1}{\\sqrt{3}}$.\n",
    "  2. I will fix $x_0 = \\frac{1}{4}$ and vary $p_{0y}$ from 0 to it's maximally allowed value of $\\sqrt{\\frac{13}{48}}$.\n",
    "  \n",
    "The goal in both of these calculations is to determine the value of the initial conditions where the orbit first changes from ordered to chaotic (each cell should take ~1 minute to run)."
   ]
  },
  {
   "cell_type": "code",
   "execution_count": 6,
   "id": "commercial-education",
   "metadata": {},
   "outputs": [
    {
     "name": "stdout",
     "output_type": "stream",
     "text": [
      "dt = 0.01000010000100001\n",
      "[False False False False False False False False False False False False\n",
      " False False False  True  True  True  True  True]\n",
      "first value of x0 that is chaotic: 0.456\n",
      "associated energy: 0.104\n"
     ]
    }
   ],
   "source": [
    "t = np.linspace(0, 1000, 100000)\n",
    "print('dt =', t[1]- t[0])\n",
    "\n",
    "x0s = np.linspace(0, np.sqrt(1/3), 20) # sqrt(1/3) is the max value of x0 allowed for Gives E=1/6\n",
    "\n",
    "Energies = np.zeros_like(x0s, dtype=bool)\n",
    "is_chaotic = np.zeros_like(x0s, dtype=bool)\n",
    "\n",
    "for i in range(len(x0s)):\n",
    "    x0, y0, px0, py0 = x0s[i], 0, 0, 0\n",
    "    E = SST.E_HH(x0, y0, px0, py0)\n",
    "    Energies[i] = E\n",
    "    x, y, px, py = SST.solve(t, x0, y0, px0, py0, SST.dVHH_dx, SST.dVHH_dy)\n",
    "    # make sure step size is small enough that energy is conserved throughout orbit\n",
    "    npt.assert_allclose(0, np.max(np.abs(SST.E_HH(x, y, px, py) - E)), atol=1e-5) \n",
    "    SALI = calc_SALI(t, x, y)\n",
    "    if np.min(SALI) < 1e-8:\n",
    "        is_chaotic[i] = True\n",
    "        \n",
    "print(is_chaotic)\n",
    "chaotic_x0s = x0s[is_chaotic]\n",
    "print('first value of x0 that is chaotic: %.3f' % chaotic_x0s[0])\n",
    "print('associated energy: %.3f' % SST.E_HH(chaotic_x0s[0], 0, 0, 0))"
   ]
  },
  {
   "cell_type": "code",
   "execution_count": 7,
   "id": "outer-vegetable",
   "metadata": {},
   "outputs": [
    {
     "name": "stdout",
     "output_type": "stream",
     "text": [
      "dt = 0.01000010000100001\n",
      "[False False False False False False False False False False False False\n",
      " False False False False  True  True  True  True]\n",
      "first value of py0 that is chaotic: 0.438\n",
      "associated energy: 0.096\n"
     ]
    }
   ],
   "source": [
    "t = np.linspace(0, 1000, 100000)\n",
    "print('dt =', t[1]- t[0])\n",
    "\n",
    "py0s = np.linspace(0, np.sqrt(13/48), 20) # sqrt(13/48) is the max value of py0 allowed for x0=1/4. Gives E=1/6\n",
    "\n",
    "Energies = np.zeros_like(py0s, dtype=bool)\n",
    "is_chaotic = np.zeros_like(py0s, dtype=bool)\n",
    "\n",
    "for i in range(len(py0s)):\n",
    "    x0, y0, px0, py0 = 1/4, 0, 0, py0s[i]\n",
    "    E = SST.E_HH(x0, y0, px0, py0)\n",
    "    Energies[i] = E\n",
    "    x, y, px, py = SST.solve(t, x0, y0, px0, py0, SST.dVHH_dx, SST.dVHH_dy)\n",
    "    # make sure step size is small enough that energy is conserved throughout orbit\n",
    "    npt.assert_allclose(0, np.max(np.abs(SST.E_HH(x, y, px, py) - E)), atol=1e-5) \n",
    "    SALI = calc_SALI(t, x, y)\n",
    "    if np.min(SALI) < 1e-8:\n",
    "        is_chaotic[i] = True\n",
    "        \n",
    "print(is_chaotic)\n",
    "chaotic_py0s = py0s[is_chaotic]\n",
    "print('first value of py0 that is chaotic: %.3f' % chaotic_py0s[0])\n",
    "print('associated energy: %.3f' % SST.E_HH(chaotic_py0s[0], 0, 0, 0))"
   ]
  },
  {
   "cell_type": "markdown",
   "id": "directed-flight",
   "metadata": {},
   "source": [
    "Only 20 points are sampled along the two lines of initial conditions above. This is to keep the computation time down when grading. To be a little more thorough, I also redid the calculations with more points sampled (changing the number of points in x0s and py0s above)\n",
    "\n",
    "Using 200 points instead of 20 for each, I end up with\n",
    "\n",
    "$x_0 = 0.450$ ($E = 0.101$) is the lowest value such that an orbit is chaotic with the other three parameters set to 0.\n",
    "\n",
    "$p_{0y} = 0.420$ ($E = 0.090$) is the lowest value for $p_{0y}$ with $x_0 = \\frac{1}{4}$ such that the orbit is chaotic.\n",
    "\n",
    "As mentioned before, I have only explored a very small subset of the parameter space here. The point is that this method can be applied to any orbit for the Henon-Heiles potential, so _any_ set of initial conditions can be efficiently classified as either ordered or chaotic for this system, which was my intent with this project."
   ]
  },
  {
   "cell_type": "code",
   "execution_count": null,
   "id": "hydraulic-slovenia",
   "metadata": {},
   "outputs": [],
   "source": []
  }
 ],
 "metadata": {
  "kernelspec": {
   "display_name": "Python 3",
   "language": "python",
   "name": "python3"
  },
  "language_info": {
   "codemirror_mode": {
    "name": "ipython",
    "version": 3
   },
   "file_extension": ".py",
   "mimetype": "text/x-python",
   "name": "python",
   "nbconvert_exporter": "python",
   "pygments_lexer": "ipython3",
   "version": "3.8.6"
  }
 },
 "nbformat": 4,
 "nbformat_minor": 5
}
